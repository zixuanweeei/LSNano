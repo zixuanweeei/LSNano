{
 "cells": [
  {
   "cell_type": "code",
   "execution_count": 1,
   "metadata": {},
   "outputs": [
    {
     "name": "stderr",
     "output_type": "stream",
     "text": [
      "Using TensorFlow backend.\n"
     ]
    }
   ],
   "source": [
    "# coding: utf-8\n",
    "%matplotlib inline\n",
    "import os\n",
    "import time\n",
    "import numpy as np\n",
    "import pandas as pd\n",
    "import pyabf\n",
    "import matplotlib.pyplot as plt\n",
    "from datetime import datetime as dt\n",
    "from eventsSegments import segment2\n",
    "from utils import centering, rolling_window\n",
    "from sklearn.utils import shuffle\n",
    "from tqdm import tnrange, tqdm_notebook\n",
    "\n",
    "from keras.optimizers import Adagrad\n",
    "from tslearn.preprocessing import TimeSeriesScalerMinMax, TimeSeriesScalerMeanVariance\n",
    "from tslearn.shapelets import ShapeletModel, grabocka_params_to_shapelet_size_dict"
   ]
  },
  {
   "cell_type": "code",
   "execution_count": 2,
   "metadata": {},
   "outputs": [],
   "source": [
    "\n",
    "def abfreader(abf_file):\n",
    "    abf = pyabf.ABF(abf_file)\n",
    "    abf.setSweep(0)\n",
    "    signal = abf.sweepY\n",
    "\n",
    "    return signal\n",
    "\n",
    "\n",
    "def subtract_baseline(s, baseline, random=True):\n",
    "    len_signal = s.size\n",
    "    len_baseline = baseline.size\n",
    "    baseline_mat = rolling_window(baseline, window=len_signal, asteps=1)\n",
    "    if random:\n",
    "        num_windows = baseline_mat.shape[0]\n",
    "        idx = np.random.randint(num_windows, size=10000 if num_windows > 10000 else 1000)\n",
    "        baseline_mat = baseline_mat[idx, :]\n",
    "    similarity = np.sum((s.reshape((1, -1)) - baseline_mat)**2, axis=-1)\n",
    "    min_idx = np.argmin(similarity)\n",
    "    return s - baseline_mat[min_idx, :]\n",
    "\n",
    "\n",
    "def longest_baseline(df, signal):\n",
    "    starts = df.loc[1:, \"start\"].reset_index(level=0, drop=True)\n",
    "    ends = df.loc[0:df.shape[0] - 2, \"stop\"].reset_index(level=0, drop=True)\n",
    "    base_dwell = starts - ends\n",
    "    max_idx = base_dwell.idxmax()\n",
    "    baseline = signal[ends[max_idx]:starts[max_idx]]\n",
    "    baseline -= baseline.mean()\n",
    "    return baseline\n"
   ]
  },
  {
   "cell_type": "code",
   "execution_count": 3,
   "metadata": {},
   "outputs": [],
   "source": [
    "DIR = \"../data/\"\n",
    "# open_current, threshold, analytes, lower_blockade, upper_blockade\n",
    "AA3_abfs = {\"15o15012.abf\": (47, 40, \"AA3\", 0, 100), \n",
    "            \"15o15023.abf\": (49, 40, \"AA3\", 0, 100)}\n",
    "GA3_abfs = {\"15o18003.abf\": (45, 40, \"GA3\", 0, 100),\n",
    "            \"15o18017.abf\": (45, 40, \"GA3\", 0, 100)}\n",
    "all_abfs = {**AA3_abfs, **GA3_abfs}"
   ]
  },
  {
   "cell_type": "code",
   "execution_count": 4,
   "metadata": {},
   "outputs": [
    {
     "data": {
      "application/vnd.jupyter.widget-view+json": {
       "model_id": "2c13bb3345ad4af39adf21c3d9100a0f",
       "version_major": 2,
       "version_minor": 0
      },
      "text/plain": [
       "HBox(children=(IntProgress(value=0, description='1st loop', max=4, style=ProgressStyle(description_width='init…"
      ]
     },
     "metadata": {},
     "output_type": "display_data"
    },
    {
     "data": {
      "application/vnd.jupyter.widget-view+json": {
       "model_id": "f8252c98ed6249c4a002a1519b7f0082",
       "version_major": 2,
       "version_minor": 0
      },
      "text/plain": [
       "HBox(children=(IntProgress(value=0, description='2nd loop', max=186, style=ProgressStyle(description_width='in…"
      ]
     },
     "metadata": {},
     "output_type": "display_data"
    },
    {
     "data": {
      "application/vnd.jupyter.widget-view+json": {
       "model_id": "25e79be7e034432c8c690afc0b5a083e",
       "version_major": 2,
       "version_minor": 0
      },
      "text/plain": [
       "HBox(children=(IntProgress(value=0, description='2nd loop', max=155, style=ProgressStyle(description_width='in…"
      ]
     },
     "metadata": {},
     "output_type": "display_data"
    },
    {
     "data": {
      "application/vnd.jupyter.widget-view+json": {
       "model_id": "7dab173e2ab94a66ad913e7966c3755d",
       "version_major": 2,
       "version_minor": 0
      },
      "text/plain": [
       "HBox(children=(IntProgress(value=0, description='2nd loop', max=92, style=ProgressStyle(description_width='ini…"
      ]
     },
     "metadata": {},
     "output_type": "display_data"
    },
    {
     "data": {
      "application/vnd.jupyter.widget-view+json": {
       "model_id": "58986379107f41269d41b47bfdb40621",
       "version_major": 2,
       "version_minor": 0
      },
      "text/plain": [
       "HBox(children=(IntProgress(value=0, description='2nd loop', max=42, style=ProgressStyle(description_width='ini…"
      ]
     },
     "metadata": {},
     "output_type": "display_data"
    },
    {
     "name": "stdout",
     "output_type": "stream",
     "text": [
      "\n"
     ]
    }
   ],
   "source": [
    "lower_points = 1100\n",
    "upper_points = 1300\n",
    "targetLength = upper_points\n",
    "\n",
    "dfs = []\n",
    "for filename, infos in tqdm_notebook(all_abfs.items(), total=len(all_abfs), desc=\"1st loop\"):\n",
    "    _filename = os.path.join(DIR, filename)\n",
    "    signal = abfreader(_filename)\n",
    "    startStop = segment2(signal, infos[0], None, 5, infos[1])\n",
    "    width = np.diff(startStop, axis=-1)\n",
    "    df = pd.DataFrame({'start': startStop[:, 0],\n",
    "                       'stop': startStop[:, 1],\n",
    "                       'width': (width.squeeze() - 20),\n",
    "                       'filename': [filename] * width.size,\n",
    "                       'analytes': [infos[2]] * width.size})\n",
    "    df = df.loc[(df['width'] >= lower_points)&(df['width'] <= upper_points), :]\n",
    "    df.reset_index(level=0, drop=True, inplace=True)\n",
    "    baseline = longest_baseline(df, signal)\n",
    "    \n",
    "    level = []\n",
    "    segments = []\n",
    "    raws = []\n",
    "    drops = []\n",
    "    for idx in tqdm_notebook(df.index, total=df.shape[0], desc='2nd loop'):\n",
    "        start = df.loc[idx, 'start']\n",
    "        stop = df.loc[idx, 'stop']\n",
    "        length = df.loc[idx, 'width']   \n",
    "        padding_size = targetLength - length\n",
    "        \n",
    "        segment = signal[start + 10:stop - 10]\n",
    "        segment_mean = segment[50:-50].mean()\n",
    "        segment = signal[start + 10:stop - 10]\n",
    "        if segment.min() < 0:\n",
    "            drops.append(idx)\n",
    "            continue\n",
    "        if segment_mean > infos[4] or segment_mean < infos[3]:\n",
    "            drops.append(idx)\n",
    "            continue\n",
    "        \n",
    "        segment -= segment_mean\n",
    "        segment = subtract_baseline(segment, baseline)\n",
    "        segment -= segment.mean()\n",
    "        segment = np.hstack([segment, np.zeros((padding_size, ))])\n",
    "        segments.append(segment)\n",
    "        raws.append(signal[start - 20:start + 20])\n",
    "        level.append(segment_mean)\n",
    "    \n",
    "    df.drop(index=drops, inplace=True)\n",
    "    df.reset_index(drop=True, inplace=True)\n",
    "    supply = pd.DataFrame({'raw': raws,\n",
    "                           'segment': segments,\n",
    "                           'level': level})\n",
    "    df = pd.concat([df, supply], axis=1)\n",
    "    dfs.append(df)"
   ]
  },
  {
   "cell_type": "code",
   "execution_count": 5,
   "metadata": {},
   "outputs": [
    {
     "name": "stderr",
     "output_type": "stream",
     "text": [
      "/root/anaconda3/lib/python3.6/site-packages/pandas/core/generic.py:1996: PerformanceWarning: \n",
      "your performance may suffer as PyTables will pickle object types that it cannot\n",
      "map directly to c-types [inferred_type->mixed,key->block1_values] [items->['filename', 'analytes', 'raw', 'segment']]\n",
      "\n",
      "  return pytables.to_hdf(path_or_buf, key, self, **kwargs)\n"
     ]
    },
    {
     "data": {
      "text/html": [
       "<div>\n",
       "<style scoped>\n",
       "    .dataframe tbody tr th:only-of-type {\n",
       "        vertical-align: middle;\n",
       "    }\n",
       "\n",
       "    .dataframe tbody tr th {\n",
       "        vertical-align: top;\n",
       "    }\n",
       "\n",
       "    .dataframe thead th {\n",
       "        text-align: right;\n",
       "    }\n",
       "</style>\n",
       "<table border=\"1\" class=\"dataframe\">\n",
       "  <thead>\n",
       "    <tr style=\"text-align: right;\">\n",
       "      <th></th>\n",
       "      <th>start</th>\n",
       "      <th>stop</th>\n",
       "      <th>width</th>\n",
       "      <th>filename</th>\n",
       "      <th>analytes</th>\n",
       "      <th>raw</th>\n",
       "      <th>segment</th>\n",
       "      <th>level</th>\n",
       "    </tr>\n",
       "  </thead>\n",
       "  <tbody>\n",
       "    <tr>\n",
       "      <th>0</th>\n",
       "      <td>49275</td>\n",
       "      <td>50541</td>\n",
       "      <td>1246</td>\n",
       "      <td>15o15012.abf</td>\n",
       "      <td>AA3</td>\n",
       "      <td>[47.885254, 48.495605, 48.19043, 49.105957, 49...</td>\n",
       "      <td>[3.75836443901062, 1.9273097515106201, 2.23248...</td>\n",
       "      <td>23.104500</td>\n",
       "    </tr>\n",
       "    <tr>\n",
       "      <th>1</th>\n",
       "      <td>378486</td>\n",
       "      <td>379789</td>\n",
       "      <td>1283</td>\n",
       "      <td>15o15012.abf</td>\n",
       "      <td>AA3</td>\n",
       "      <td>[45.443848, 45.443848, 46.0542, 45.13867, 44.5...</td>\n",
       "      <td>[1.1405439376831055, 0.5301923751831055, -0.08...</td>\n",
       "      <td>22.111444</td>\n",
       "    </tr>\n",
       "    <tr>\n",
       "      <th>2</th>\n",
       "      <td>1217885</td>\n",
       "      <td>1219160</td>\n",
       "      <td>1255</td>\n",
       "      <td>15o15012.abf</td>\n",
       "      <td>AA3</td>\n",
       "      <td>[45.13867, 46.359375, 46.359375, 46.0542, 45.7...</td>\n",
       "      <td>[7.2821502685546875, 7.2821502685546875, 4.840...</td>\n",
       "      <td>21.785723</td>\n",
       "    </tr>\n",
       "    <tr>\n",
       "      <th>3</th>\n",
       "      <td>1519286</td>\n",
       "      <td>1520474</td>\n",
       "      <td>1168</td>\n",
       "      <td>15o15012.abf</td>\n",
       "      <td>AA3</td>\n",
       "      <td>[46.0542, 46.359375, 45.749023, 45.443848, 46....</td>\n",
       "      <td>[4.288922309875488, 3.678570508956909, 3.06821...</td>\n",
       "      <td>21.858732</td>\n",
       "    </tr>\n",
       "    <tr>\n",
       "      <th>4</th>\n",
       "      <td>2045561</td>\n",
       "      <td>2046829</td>\n",
       "      <td>1248</td>\n",
       "      <td>15o15012.abf</td>\n",
       "      <td>AA3</td>\n",
       "      <td>[49.105957, 48.80078, 49.71631, 49.105957, 49....</td>\n",
       "      <td>[7.265286445617676, 8.180813789367676, 6.04458...</td>\n",
       "      <td>21.747799</td>\n",
       "    </tr>\n",
       "  </tbody>\n",
       "</table>\n",
       "</div>"
      ],
      "text/plain": [
       "     start     stop  width      filename analytes  \\\n",
       "0    49275    50541   1246  15o15012.abf      AA3   \n",
       "1   378486   379789   1283  15o15012.abf      AA3   \n",
       "2  1217885  1219160   1255  15o15012.abf      AA3   \n",
       "3  1519286  1520474   1168  15o15012.abf      AA3   \n",
       "4  2045561  2046829   1248  15o15012.abf      AA3   \n",
       "\n",
       "                                                 raw  \\\n",
       "0  [47.885254, 48.495605, 48.19043, 49.105957, 49...   \n",
       "1  [45.443848, 45.443848, 46.0542, 45.13867, 44.5...   \n",
       "2  [45.13867, 46.359375, 46.359375, 46.0542, 45.7...   \n",
       "3  [46.0542, 46.359375, 45.749023, 45.443848, 46....   \n",
       "4  [49.105957, 48.80078, 49.71631, 49.105957, 49....   \n",
       "\n",
       "                                             segment      level  \n",
       "0  [3.75836443901062, 1.9273097515106201, 2.23248...  23.104500  \n",
       "1  [1.1405439376831055, 0.5301923751831055, -0.08...  22.111444  \n",
       "2  [7.2821502685546875, 7.2821502685546875, 4.840...  21.785723  \n",
       "3  [4.288922309875488, 3.678570508956909, 3.06821...  21.858732  \n",
       "4  [7.265286445617676, 8.180813789367676, 6.04458...  21.747799  "
      ]
     },
     "execution_count": 5,
     "metadata": {},
     "output_type": "execute_result"
    }
   ],
   "source": [
    "datasets = pd.concat(dfs, axis=0)\n",
    "datasets.to_hdf(\"data/nosub250kHz.h5\", key=\"abf\", mode=\"w\")\n",
    "datasets.head(5)"
   ]
  }
 ],
 "metadata": {
  "kernelspec": {
   "display_name": "Python 3",
   "language": "python",
   "name": "python3"
  },
  "language_info": {
   "codemirror_mode": {
    "name": "ipython",
    "version": 3
   },
   "file_extension": ".py",
   "mimetype": "text/x-python",
   "name": "python",
   "nbconvert_exporter": "python",
   "pygments_lexer": "ipython3",
   "version": "3.6.8"
  }
 },
 "nbformat": 4,
 "nbformat_minor": 2
}
